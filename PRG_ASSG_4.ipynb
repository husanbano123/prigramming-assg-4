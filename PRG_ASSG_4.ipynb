{
 "cells": [
  {
   "cell_type": "code",
   "execution_count": 1,
   "id": "96f432ff",
   "metadata": {},
   "outputs": [
    {
     "name": "stdout",
     "output_type": "stream",
     "text": [
      "Object `Number` not found.\n",
      "Object `Table` not found.\n",
      "Object `sequence` not found.\n",
      "Object `Number` not found.\n",
      "Object `Interval` not found.\n",
      "Object `Numbers` not found.\n"
     ]
    }
   ],
   "source": [
    "1.\tWrite a Python Program to Find the Factorial of a Number?\n",
    "2.\tWrite a Python Program to Display the multiplication Table?\n",
    "3.\tWrite a Python Program to Print the Fibonacci sequence?\n",
    "4.\tWrite a Python Program to Check Armstrong Number?\n",
    "5.\tWrite a Python Program to Find Armstrong Number in an Interval?\n",
    "6.\tWrite a Python Program to Find the Sum of Natural Numbers?\n"
   ]
  },
  {
   "cell_type": "code",
   "execution_count": 1,
   "id": "20dca3ae",
   "metadata": {},
   "outputs": [
    {
     "name": "stdout",
     "output_type": "stream",
     "text": [
      "enter any no:6\n",
      "The factorial of  6 is 720\n"
     ]
    }
   ],
   "source": [
    "#q1 Factorial of a Number\n",
    "n=int(input(\"enter any no:\"))\n",
    "fac=1\n",
    "if n<0:\n",
    "    print(\"factorial does not exist\")\n",
    "elif n==0:\n",
    "    print(\"factorial of 0 is 1 \")\n",
    "else:\n",
    "    for i in range(1,n+1):\n",
    "        fac=fac*i\n",
    "    print(\"The factorial of \" ,n ,\"is\",fac)\n",
    "    \n"
   ]
  },
  {
   "cell_type": "code",
   "execution_count": 2,
   "id": "7c893341",
   "metadata": {},
   "outputs": [
    {
     "name": "stdout",
     "output_type": "stream",
     "text": [
      "enter any no:7\n",
      "7 x 1 = 7\n",
      "7 x 2 = 14\n",
      "7 x 3 = 21\n",
      "7 x 4 = 28\n",
      "7 x 5 = 35\n",
      "7 x 6 = 42\n",
      "7 x 7 = 49\n",
      "7 x 8 = 56\n",
      "7 x 9 = 63\n",
      "7 x 10 = 70\n"
     ]
    }
   ],
   "source": [
    "#q2 multiplication Table\n",
    "n=int(input(\"enter any no:\"))\n",
    "for i in range(1,11):\n",
    "        print(n,'x',i,'=',i*n)\n",
    "        "
   ]
  },
  {
   "cell_type": "code",
   "execution_count": 3,
   "id": "78dbd99b",
   "metadata": {},
   "outputs": [],
   "source": [
    "#q3 fibonacci sequence\n",
    "def fib(n):\n",
    "    a=1\n",
    "    b=1\n",
    "    output=[]\n",
    "    for i in range(n):\n",
    "        output.append(a)\n",
    "        a,b=b,a+b\n",
    "    return output\n",
    "        \n",
    "        \n",
    "        "
   ]
  },
  {
   "cell_type": "code",
   "execution_count": 4,
   "id": "fcc216d4",
   "metadata": {},
   "outputs": [
    {
     "data": {
      "text/plain": [
       "[1, 1, 2, 3, 5, 8, 13, 21, 34, 55]"
      ]
     },
     "execution_count": 4,
     "metadata": {},
     "output_type": "execute_result"
    }
   ],
   "source": [
    "fib(10)"
   ]
  },
  {
   "cell_type": "code",
   "execution_count": 5,
   "id": "778f79e3",
   "metadata": {},
   "outputs": [
    {
     "name": "stdout",
     "output_type": "stream",
     "text": [
      "enter any no:153\n",
      "It is Amstrong no  153\n"
     ]
    }
   ],
   "source": [
    "#q4 amstrong no\n",
    "\n",
    "n=int(input(\"enter any no:\"))\n",
    "s=n\n",
    "sum=0\n",
    "while n!=0:\n",
    "    r=n%10\n",
    "    sum=sum+r*r*r\n",
    "    n=n//10\n",
    "if s==sum:\n",
    "        print(\"It is Amstrong no \",s)\n",
    "else:\n",
    "        print(\"It is not amstrong no\",s)"
   ]
  },
  {
   "cell_type": "code",
   "execution_count": 6,
   "id": "b387eead",
   "metadata": {},
   "outputs": [
    {
     "name": "stdout",
     "output_type": "stream",
     "text": [
      "enter any first no:100\n",
      "enter any second no:500\n",
      "125\n",
      "153\n",
      "216\n",
      "370\n",
      "371\n",
      "407\n"
     ]
    }
   ],
   "source": [
    "#q5 Write a Python Program to Find Armstrong Number in an Interval?\n",
    "lower=int(input(\"enter any first no:\"))\n",
    "upper=int(input(\"enter any second no:\"))\n",
    "for i in range(lower,upper+1):\n",
    "    sum=0\n",
    "    temp=i\n",
    "    while temp>0:\n",
    "        r=temp%10\n",
    "        sum=sum+r*r*r\n",
    "        temp=temp//10\n",
    "        if i==sum:\n",
    "            print(i)"
   ]
  },
  {
   "cell_type": "code",
   "execution_count": 7,
   "id": "61dfba3a",
   "metadata": {},
   "outputs": [
    {
     "name": "stdout",
     "output_type": "stream",
     "text": [
      "enter any no:20\n",
      "sum of natural no is 210\n"
     ]
    }
   ],
   "source": [
    "#q6 Sum of Natural Numbers\n",
    "n=int(input(\"enter any no:\"))\n",
    "sum=0\n",
    "while(n>0):\n",
    "    sum=sum+n\n",
    "    n=n-1\n",
    "print(\"sum of natural no is\",sum)"
   ]
  },
  {
   "cell_type": "code",
   "execution_count": null,
   "id": "c40db5d0",
   "metadata": {},
   "outputs": [],
   "source": []
  }
 ],
 "metadata": {
  "kernelspec": {
   "display_name": "Python 3 (ipykernel)",
   "language": "python",
   "name": "python3"
  },
  "language_info": {
   "codemirror_mode": {
    "name": "ipython",
    "version": 3
   },
   "file_extension": ".py",
   "mimetype": "text/x-python",
   "name": "python",
   "nbconvert_exporter": "python",
   "pygments_lexer": "ipython3",
   "version": "3.9.7"
  }
 },
 "nbformat": 4,
 "nbformat_minor": 5
}
